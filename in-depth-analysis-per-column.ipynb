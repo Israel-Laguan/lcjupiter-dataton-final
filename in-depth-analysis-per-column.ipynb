{
 "cells": [
  {
   "cell_type": "markdown",
   "metadata": {},
   "source": [
    "# Analisis columna por columna: correlacion y aporte de cada columna"
   ]
  },
  {
   "cell_type": "code",
   "execution_count": 40,
   "metadata": {},
   "outputs": [],
   "source": [
    "import numpy as np\n",
    "import seaborn as sns\n",
    "%matplotlib inline\n",
    "from matplotlib import pyplot as plt\n",
    "from matplotlib import style\n",
    "%matplotlib inline\n",
    "from content.initial_analysis_step import get_clean_data\n",
    "\n",
    "trainData = get_clean_data(\"./content/sample_data/train.csv\")"
   ]
  },
  {
   "cell_type": "code",
   "execution_count": 41,
   "metadata": {},
   "outputs": [
    {
     "name": "stdout",
     "output_type": "stream",
     "text": [
      "Top Absolute Correlations\n",
      "tipo_avaluo_Hipotecario                   tipo_avaluo_Remates                              1.000000\n",
      "area_actividad_MIxta                      uso_principal_ph_Comercial - Residencial         1.000000\n",
      "area_actividad_CAE-1                      uso_principal_ph_Comercio de bienes              1.000000\n",
      "uso_actual_Hotelero                       uso_principal_ph_Hospedaje                       1.000000\n",
      "area_actividad_privada                    uso_principal_ph_residencial unifamiliar         1.000000\n",
      "area_actividad_comercial                  uso_principal_ph_deposito o bodega               1.000000\n",
      "area_actividad_Zona Suburbana             uso_principal_ph_Casas campestres y fincas       1.000000\n",
      "area_actividad_Zona Múltiple central      uso_principal_ph_Comercio y Vivienda             1.000000\n",
      "area_actividad_ZONA TECNOLOGIA            uso_principal_ph_RESIDENCIAL - EDUCATIVO         1.000000\n",
      "area_actividad_Residencial - TurÃ­stico   uso_principal_ph_Residencial - TurÃ­stico        1.000000\n",
      "uso_actual_Construcción Viviendas         uso_principal_ph_USO MULTIPLE  RESIDENCIL        1.000000\n",
      "area_actividad_CAE - 2                    uso_principal_ph_Comercio bienes                 1.000000\n",
      "area_actividad_Area de Baja Mixtura       uso_principal_ph_Predominante residencial        1.000000\n",
      "area_actividad_MIXTO RESID. Y TURISTICO   uso_principal_ph_RESIDENCIAL- TURISTICO          1.000000\n",
      "area_actividad_AREA DE ACTIVIDAD CENTRAL  uso_principal_ph_Residencial-Comercio            1.000000\n",
      "area_actividad_SUBURBANA                  uso_principal_ph_TURISTICA, RESIDENCIAL          1.000000\n",
      "area_actividad_96.54                      uso_principal_ph_VIVVIENDA                       1.000000\n",
      "uso_actual_Hotelero                       area_actividad_Hotelera                          1.000000\n",
      "area_actividad_COMERCIAL                  uso_principal_ph_COMERCIO LIVIANO                1.000000\n",
      "area_actividad_107.12                     uso_principal_ph_Rersidencial                    1.000000\n",
      "area_actividad_Redes. MÃºltiple           uso_principal_ph_MÃºltiple                       1.000000\n",
      "area_actividad_ÁREA RESIDENCIAL TURISTI   uso_principal_ph_RESIDENCIAL Y HOTELERA          1.000000\n",
      "area_actividad_RESIDENCIAL ZR2            uso_principal_ph_RESIDENCIAL ZR2                 1.000000\n",
      "tipo_inmueble_Lote Urbano                 detalle_material_Pórticos y paneles en madera    1.000000\n",
      "area_actividad_RESIDENCIAL Y SERVICIOS    uso_principal_ph_VIVIENDA Y SERVICIOS            1.000000\n",
      "area_actividad_RESIDENCIAL Y COMERCIO     uso_principal_ph_VIVIENDA, SERV Y COMERCIO       1.000000\n",
      "area_actividad_RESIDENCIAL E INDUSTRIAL   uso_principal_ph_VIVIENDA E INDUSTRIA            1.000000\n",
      "area_actividad_HABITACIONAL               uso_principal_ph_HABITACIONAL                    1.000000\n",
      "area_actividad_Hotelera                   uso_principal_ph_Hospedaje                       1.000000\n",
      "area_actividad_PR-2,  CAE 2               uso_principal_ph_RESIDENCIAL - COMERCIAL         1.000000\n",
      "area_actividad_NO SUMISTRADA              uso_principal_ph_PARCELACIÃ“N RESIDENCIAL        1.000000\n",
      "area_actividad_Multiple                   uso_principal_ph_Multiple                        1.000000\n",
      "area_actividad_Mixto Tipo 1               uso_principal_ph_Residencial y Comercio 1        1.000000\n",
      "area_actividad_MIXTO 2                    uso_principal_ph_COMERCIAL -RESIDENCIAL          1.000000\n",
      "area_actividad_47.8                       uso_principal_ph_TURISMO                         1.000000\n",
      "tipo_credito_Diferente de Vivienda        tipo_credito_Vivienda                            1.000000\n",
      "sector_Rural                              sector_Urbano                                    0.998388\n",
      "objeto_Remate                             tipo_avaluo_Remates                              0.998184\n",
      "                                          tipo_avaluo_Hipotecario                          0.998184\n",
      "area_actividad_0                          uso_principal_ph_0                               0.997441\n",
      "vigilancia_privada                        tipo_vigilancia                                  0.993639\n",
      "material_de_construccion_Mixtas u Otro    detalle_material_0                               0.990750\n",
      "objeto_Originación                        proposito_Garantía Hipotecaria                   0.976575\n",
      "iluminacion_Bueno                         iluminacion_Regular                              0.974542\n",
      "tipo_inmueble_Apartamento                 tipo_inmueble_Casa                               0.959004\n",
      "proposito_GarantÃ­a Hipotecaria           proposito_Garantía Hipotecaria                   0.958963\n",
      "unidades                                  contadores_agua                                  0.958121\n",
      "objeto_Originación                        proposito_GarantÃ­a Hipotecaria                  0.954067\n",
      "numero_total_de_garajes                   total_cupos_parquedaro                           0.953010\n",
      "irregularidad_planta                      irregularidad_altura                             0.951851\n",
      "objeto_OriginaciÃ³n                       proposito_Garantía Hipotecaria                   0.933573\n",
      "                                          objeto_Originación                               0.928806\n",
      "motivo_Remates                            tipo_avaluo_Remates                              0.921854\n",
      "                                          tipo_avaluo_Hipotecario                          0.921854\n",
      "objeto_OriginaciÃ³n                       proposito_GarantÃ­a Hipotecaria                  0.920359\n",
      "objeto_Remate                             motivo_Remates                                   0.920083\n",
      "area_actividad_RESIDENCIAL.               uso_principal_ph_RESIDENCIAL.                    0.912776\n",
      "numero_total_de_garajes                   tipo_garaje_No Tiene                             0.895816\n",
      "estructura_reforzada_No disponible        estructura_reforzada_Trabes coladas en sitio     0.868904\n",
      "total_cupos_parquedaro                    tipo_garaje_No Tiene                             0.861687\n",
      "dtype: float64\n"
     ]
    },
    {
     "name": "stderr",
     "output_type": "stream",
     "text": [
      "/tmp/ipykernel_394/1883928137.py:18: DeprecationWarning: `np.bool` is a deprecated alias for the builtin `bool`. To silence this warning, use `bool` by itself. Doing this will not modify any behavior and is safe. If you specifically wanted the numpy scalar type, use `np.bool_` here.\n",
      "Deprecated in NumPy 1.20; for more details and guidance: https://numpy.org/devdocs/release/1.20.0-notes.html#deprecations\n",
      "  sol = (corr_matrix.where(np.triu(np.ones(corr_matrix.shape), k=1).astype(np.bool))\n"
     ]
    }
   ],
   "source": [
    "#Correlation Matrix\n",
    "\n",
    "def get_redundant_pairs(df):\n",
    "  '''Get diagonal and lower triangular pairs of correlation matrix'''\n",
    "  pairs_to_drop = set()\n",
    "  cols = df.columns\n",
    "  for i in range(0, df.shape[1]):\n",
    "    for j in range(0, i + 1):\n",
    "      pairs_to_drop.add((cols[i], cols[j]))\n",
    "  return pairs_to_drop\n",
    "\n",
    "\n",
    "def get_top_abs_correlations(df, n=60):\n",
    "  corr_matrix = df.corr().abs()\n",
    "\n",
    "  #the matrix is symmetric so we need to extract upper triangle matrix without diagonal (k = 1)\n",
    "\n",
    "  sol = (corr_matrix.where(np.triu(np.ones(corr_matrix.shape), k=1).astype(np.bool))\n",
    "                    .stack()\n",
    "                    .sort_values(ascending=False))\n",
    "  return sol[0:n]\n",
    "\n",
    "print(\"Top Absolute Correlations\")\n",
    "print(get_top_abs_correlations(trainData))"
   ]
  },
  {
   "cell_type": "markdown",
   "metadata": {},
   "source": [
    "Notamos que las siguientes columnas pueden ser redundantes entre si\n",
    "\n",
    "```\n",
    "tipo_avaluo_Hipotecario                   tipo_avaluo_Remates                              1.000000 # Pueden mantenerse\n",
    "area_actividad_MIxta                      uso_principal_ph_Comercial - Residencial         1.000000 # Parece que Mixta se refiere a lo mismo, asi que eliminare \"Mixta\" pues es menos claro por su nombre\n",
    "area_actividad_CAE-1                      uso_principal_ph_Comercio de bienes              1.000000 # Eliminare \"area_actividad_CAE-1\"\n",
    "uso_actual_Hotelero                       uso_principal_ph_Hospedaje                       1.000000 # Eliminare \"uso_principal_ph_Hospedaje\"\n",
    "area_actividad_privada                    uso_principal_ph_residencial unifamiliar         1.000000 # Eliminare \"area_actividad_privada\"\n",
    "area_actividad_comercial                  uso_principal_ph_deposito o bodega               1.000000 # Eliminare \"\"\n",
    "area_actividad_Zona Suburbana             uso_principal_ph_Casas campestres y fincas       1.000000\n",
    "area_actividad_Zona Múltiple central      uso_principal_ph_Comercio y Vivienda             1.000000\n",
    "area_actividad_ZONA TECNOLOGIA            uso_principal_ph_RESIDENCIAL - EDUCATIVO         1.000000\n",
    "area_actividad_Residencial - TurÃ­stico   uso_principal_ph_Residencial - TurÃ­stico        1.000000\n",
    "uso_actual_Construcción Viviendas         uso_principal_ph_USO MULTIPLE  RESIDENCIL        1.000000\n",
    "area_actividad_CAE - 2                    uso_principal_ph_Comercio bienes                 1.000000\n",
    "area_actividad_Area de Baja Mixtura       uso_principal_ph_Predominante residencial        1.000000\n",
    "area_actividad_MIXTO RESID. Y TURISTICO   uso_principal_ph_RESIDENCIAL- TURISTICO          1.000000\n",
    "area_actividad_AREA DE ACTIVIDAD CENTRAL  uso_principal_ph_Residencial-Comercio            1.000000\n",
    "area_actividad_SUBURBANA                  uso_principal_ph_TURISTICA, RESIDENCIAL          1.000000\n",
    "area_actividad_96.54                      uso_principal_ph_VIVVIENDA                       1.000000\n",
    "uso_actual_Hotelero                       area_actividad_Hotelera                          1.000000\n",
    "area_actividad_COMERCIAL                  uso_principal_ph_COMERCIO LIVIANO                1.000000\n",
    "area_actividad_107.12                     uso_principal_ph_Rersidencial                    1.000000\n",
    "area_actividad_Redes. MÃºltiple           uso_principal_ph_MÃºltiple                       1.000000\n",
    "area_actividad_ÁREA RESIDENCIAL TURISTI   uso_principal_ph_RESIDENCIAL Y HOTELERA          1.000000\n",
    "area_actividad_RESIDENCIAL ZR2            uso_principal_ph_RESIDENCIAL ZR2                 1.000000\n",
    "tipo_inmueble_Lote Urbano                 detalle_material_Pórticos y paneles en madera    1.000000\n",
    "area_actividad_RESIDENCIAL Y SERVICIOS    uso_principal_ph_VIVIENDA Y SERVICIOS            1.000000\n",
    "area_actividad_RESIDENCIAL Y COMERCIO     uso_principal_ph_VIVIENDA, SERV Y COMERCIO       1.000000\n",
    "area_actividad_RESIDENCIAL E INDUSTRIAL   uso_principal_ph_VIVIENDA E INDUSTRIA            1.000000\n",
    "area_actividad_HABITACIONAL               uso_principal_ph_HABITACIONAL                    1.000000\n",
    "area_actividad_Hotelera                   uso_principal_ph_Hospedaje                       1.000000\n",
    "area_actividad_PR-2,  CAE 2               uso_principal_ph_RESIDENCIAL - COMERCIAL         1.000000\n",
    "area_actividad_NO SUMISTRADA              uso_principal_ph_PARCELACIÃ“N RESIDENCIAL        1.000000\n",
    "area_actividad_Multiple                   uso_principal_ph_Multiple                        1.000000\n",
    "area_actividad_Mixto Tipo 1               uso_principal_ph_Residencial y Comercio 1        1.000000\n",
    "area_actividad_MIXTO 2                    uso_principal_ph_COMERCIAL -RESIDENCIAL          1.000000\n",
    "area_actividad_47.8                       uso_principal_ph_TURISMO                         1.000000\n",
    "tipo_credito_Diferente de Vivienda        tipo_credito_Vivienda                            1.000000\n",
    "```"
   ]
  },
  {
   "cell_type": "markdown",
   "metadata": {},
   "source": [
    "Podemos notar que la columna `area_actividad` se complementa con la de `uso_principal`, deberia ser seguro quitar una, me parece que quitare `uso_principal` pues tiene nombres menos descriptivos. Otro caso similar es `uso_actual`."
   ]
  },
  {
   "cell_type": "markdown",
   "metadata": {},
   "source": [
    "\n",
    "En las siguientes columnas vemos mas correlaciones interesantes\n",
    "\n",
    "```\n",
    "objeto_Remate                             tipo_avaluo_Remates                              0.998184\n",
    "                                          tipo_avaluo_Hipotecario                          0.998184\n",
    "area_actividad_0                          uso_principal_ph_0                               0.997441\n",
    "vigilancia_privada                        tipo_vigilancia                                  0.993639\n",
    "material_de_construccion_Mixtas u Otro    detalle_material_0                               0.990750\n",
    "objeto_Originación                        proposito_Garantía Hipotecaria                   0.976575\n",
    "iluminacion_Bueno                         iluminacion_Regular                              0.974542\n",
    "tipo_inmueble_Apartamento                 tipo_inmueble_Casa                               0.959004\n",
    "proposito_GarantÃ­a Hipotecaria           proposito_Garantía Hipotecaria                   0.958963\n",
    "unidades                                  contadores_agua                                  0.958121\n",
    "objeto_Originación                        proposito_GarantÃ­a Hipotecaria                  0.954067\n",
    "numero_total_de_garajes                   total_cupos_parquedaro                           0.953010\n",
    "irregularidad_planta                      irregularidad_altura                             0.951851\n",
    "objeto_OriginaciÃ³n                       proposito_Garantía Hipotecaria                   0.933573\n",
    "                                          objeto_Originación                               0.928806\n",
    "motivo_Remates                            tipo_avaluo_Remates                              0.921854\n",
    "                                          tipo_avaluo_Hipotecario                          0.921854\n",
    "objeto_OriginaciÃ³n                       proposito_GarantÃ­a Hipotecaria                  0.920359\n",
    "```"
   ]
  },
  {
   "cell_type": "markdown",
   "metadata": {},
   "source": [
    "Notamos que `uso_principal_ph` corresponde con `area_actividad`; `vigilancia_privada` with `tipo_vigilancia`; `unidades` con `contadores_agua` ; `numero_total_de_garajes` con `total_cupos_parquedaro` ; `objeto_Remate` con `motivo_Remates`. Se procedera a eliminar las columnas redundantes."
   ]
  },
  {
   "cell_type": "code",
   "execution_count": 42,
   "metadata": {},
   "outputs": [
    {
     "data": {
      "text/plain": [
       "(9629, 832)"
      ]
     },
     "execution_count": 42,
     "metadata": {},
     "output_type": "execute_result"
    }
   ],
   "source": [
    "redundant_columns = [\n",
    "  'uso_principal_ph_Comercial - Residencial',\n",
    "  'uso_principal_ph_Comercio de bienes',\n",
    "  'uso_principal_ph_Hospedaje',\n",
    "  'uso_principal_ph_residencial unifamiliar',\n",
    "  'uso_principal_ph_deposito o bodega',\n",
    "  'uso_principal_ph_Casas campestres y fincas',\n",
    "  'uso_principal_ph_Comercio y Vivienda',\n",
    "  'uso_principal_ph_RESIDENCIAL - EDUCATIVO',\n",
    "  'uso_principal_ph_Residencial - TurÃ­stico',\n",
    "  'uso_principal_ph_USO MULTIPLE  RESIDENCIL',\n",
    "  'uso_principal_ph_Comercio bienes',\n",
    "  'uso_principal_ph_Predominante residencial',\n",
    "  'uso_principal_ph_RESIDENCIAL- TURISTICO',\n",
    "  'uso_principal_ph_Residencial-Comercio',\n",
    "  'uso_principal_ph_TURISTICA, RESIDENCIAL',\n",
    "  'uso_principal_ph_VIVVIENDA',\n",
    "  'area_actividad_Hotelera',\n",
    "  'uso_principal_ph_COMERCIO LIVIANO',\n",
    "  'uso_principal_ph_Rersidencial',\n",
    "  'uso_principal_ph_MÃºltiple',\n",
    "  'uso_principal_ph_RESIDENCIAL Y HOTELERA',\n",
    "  'uso_principal_ph_RESIDENCIAL ZR2',\n",
    "  'uso_principal_ph_VIVIENDA Y SERVICIOS',\n",
    "  'uso_principal_ph_VIVIENDA, SERV Y COMERCIO',\n",
    "  'uso_principal_ph_VIVIENDA E INDUSTRIA',\n",
    "  'uso_principal_ph_HABITACIONAL',\n",
    "  'uso_principal_ph_Hospedaje',\n",
    "  'uso_principal_ph_RESIDENCIAL - COMERCIAL',\n",
    "  'uso_principal_ph_PARCELACIÃ“N RESIDENCIAL',\n",
    "  'uso_principal_ph_Multiple',\n",
    "  'uso_principal_ph_Residencial y Comercio 1',\n",
    "  'uso_principal_ph_COMERCIAL -RESIDENCIAL',\n",
    "  'uso_principal_ph_TURISMO',\n",
    "  'uso_principal_ph_0',\n",
    "  'tipo_vigilancia',\n",
    "  'unidades',\n",
    "  'total_cupos_parquedaro',\n",
    "  'motivo_Remates',\n",
    "]\n",
    "\n",
    "trainData = trainData.drop(redundant_columns, axis=1)\n",
    "trainData.shape\n"
   ]
  },
  {
   "cell_type": "code",
   "execution_count": 43,
   "metadata": {},
   "outputs": [
    {
     "name": "stdout",
     "output_type": "stream",
     "text": [
      "Top Absolute Correlations\n",
      "tipo_avaluo_Hipotecario                 tipo_avaluo_Remates                              1.000000\n",
      "tipo_inmueble_Lote Urbano               detalle_material_Pórticos y paneles en madera    1.000000\n",
      "tipo_credito_Diferente de Vivienda      tipo_credito_Vivienda                            1.000000\n",
      "sector_Rural                            sector_Urbano                                    0.998388\n",
      "objeto_Remate                           tipo_avaluo_Remates                              0.998184\n",
      "                                        tipo_avaluo_Hipotecario                          0.998184\n",
      "material_de_construccion_Mixtas u Otro  detalle_material_0                               0.990750\n",
      "objeto_Originación                      proposito_Garantía Hipotecaria                   0.976575\n",
      "iluminacion_Bueno                       iluminacion_Regular                              0.974542\n",
      "tipo_inmueble_Apartamento               tipo_inmueble_Casa                               0.959004\n",
      "proposito_GarantÃ­a Hipotecaria         proposito_Garantía Hipotecaria                   0.958963\n",
      "objeto_Originación                      proposito_GarantÃ­a Hipotecaria                  0.954067\n",
      "irregularidad_planta                    irregularidad_altura                             0.951851\n",
      "objeto_OriginaciÃ³n                     proposito_Garantía Hipotecaria                   0.933573\n",
      "                                        objeto_Originación                               0.928806\n",
      "                                        proposito_GarantÃ­a Hipotecaria                  0.920359\n",
      "area_actividad_RESIDENCIAL.             uso_principal_ph_RESIDENCIAL.                    0.912776\n",
      "numero_total_de_garajes                 tipo_garaje_No Tiene                             0.895816\n",
      "estructura_reforzada_No disponible      estructura_reforzada_Trabes coladas en sitio     0.868904\n",
      "objeto_Originación                      motivo_Crédito hipotecario de vivienda           0.855105\n",
      "uso_actual_0                            clase_inmueble_0                                 0.853289\n",
      "calidad_acabados_muros                  calidad_acabados_techos                          0.838896\n",
      "motivo_Crédito hipotecario de vivienda  proposito_Garantía Hipotecaria                   0.837844\n",
      "estado_acabados_muros                   estado_acabados_techos                           0.836017\n",
      "clase_inmueble_Multifamiliar            clase_inmueble_Unifamiliar                       0.833713\n",
      "porteria                                vigilancia_privada                               0.829518\n",
      "area_actividad_RESIDENCIAL              uso_principal_ph_VIVIENDA                        0.827896\n",
      "estado_acabados_pisos                   estado_acabados_muros                            0.824254\n",
      "calidad_acabados_pisos                  calidad_acabados_muros                           0.819627\n",
      "motivo_Crédito hipotecario de vivienda  proposito_GarantÃ­a Hipotecaria                  0.815828\n",
      "cuarto_servicio                         bano_servicio                                    0.810543\n",
      "objeto_OriginaciÃ³n                     motivo_Crédito hipotecario de vivienda           0.794227\n",
      "calidad_acabados_pisos                  calidad_acabados_techos                          0.790308\n",
      "estado_acabados_banos                   estado_acabados_cocina                           0.787982\n",
      "estado_acabados_pisos                   estado_acabados_techos                           0.780592\n",
      "tipo_inmueble_Apartamento               clase_inmueble_Multifamiliar                     0.778483\n",
      "                                        area_actividad_0                                 0.754719\n",
      "acueducto_en_el_predio                  energia_en_el_predio                             0.752986\n",
      "calidad_acabados_pisos                  calidad_acabados_madera                          0.746448\n",
      "tipo_inmueble_Casa                      clase_inmueble_Multifamiliar                     0.742497\n",
      "calidad_acabados_techos                 calidad_acabados_madera                          0.741042\n",
      "porteria                                citofono                                         0.738301\n",
      "area_actividad_residencial              uso_principal_ph_vivienda                        0.734753\n",
      "calidad_acabados_muros                  calidad_acabados_madera                          0.733964\n",
      "sala                                    cocina                                           0.725492\n",
      "calidad_acabados_madera                 calidad_acabados_metal                           0.721640\n",
      "alcantarillado_en_el_predio             acueducto_en_el_predio                           0.721447\n",
      "tipo_inmueble_Casa                      area_actividad_0                                 0.721442\n",
      "proposito_Garantía Hipotecaria          material_de_construccion_Mampostería             0.712998\n",
      "calidad_acabados_techos                 calidad_acabados_metal                           0.712446\n",
      "objeto_Originación                      material_de_construccion_Mampostería             0.708920\n",
      "calidad_acabados_muros                  calidad_acabados_metal                           0.707322\n",
      "area_actividad_Residencial Rural        uso_principal_ph_Residencial Rural               0.707070\n",
      "area_actividad_C-2                      uso_principal_ph_CCIAL Y SERVICIOS LIVIAN        0.707070\n",
      "tipo_inmueble_DepÃ³sito                 area_actividad_comercial                         0.707070\n",
      "area_actividad_residencial.             uso_principal_ph_residencial.                    0.707070\n",
      "area_actividad_Residencial Rural        uso_principal_ph_residencial campestre           0.707070\n",
      "area_actividad_reidencial               uso_principal_ph_reisdencial                     0.707070\n",
      "area_actividad_Central                  uso_principal_ph_Vivienda-comercio               0.707070\n",
      "tipo_inmueble_Garaje                    uso_principal_ph_Parqueo                         0.707070\n",
      "dtype: float64\n"
     ]
    },
    {
     "name": "stderr",
     "output_type": "stream",
     "text": [
      "/tmp/ipykernel_394/1883928137.py:18: DeprecationWarning: `np.bool` is a deprecated alias for the builtin `bool`. To silence this warning, use `bool` by itself. Doing this will not modify any behavior and is safe. If you specifically wanted the numpy scalar type, use `np.bool_` here.\n",
      "Deprecated in NumPy 1.20; for more details and guidance: https://numpy.org/devdocs/release/1.20.0-notes.html#deprecations\n",
      "  sol = (corr_matrix.where(np.triu(np.ones(corr_matrix.shape), k=1).astype(np.bool))\n"
     ]
    }
   ],
   "source": [
    "print(\"Top Absolute Correlations\")\n",
    "print(get_top_abs_correlations(trainData))"
   ]
  },
  {
   "cell_type": "markdown",
   "metadata": {},
   "source": [
    "Notamos que ya se no hay tantas columnas relacionadas entre si."
   ]
  },
  {
   "cell_type": "markdown",
   "metadata": {},
   "source": [
    "Ahora comparemos con la columna objetivo, y veamos que correlacion hay, para quitar las que tienen menos correlacion"
   ]
  },
  {
   "cell_type": "code",
   "execution_count": 44,
   "metadata": {},
   "outputs": [
    {
     "name": "stdout",
     "output_type": "stream",
     "text": [
      "estado_acabados_pisos                         0.000025\n",
      "irregularidad_planta                          0.000075\n",
      "uso_actual_Educación                          0.000124\n",
      "area_actividad_Residencial e institucion      0.000146\n",
      "area_actividad_Sector TecnolÃ³gico            0.000150\n",
      "                                                ...   \n",
      "uso_principal_ph_Institucion 3 - Comerci 2    0.000270\n",
      "area_actividad_Area de Actividad Central      0.000270\n",
      "area_actividad_MIXTO 2                        0.000270\n",
      "area_actividad_Ãrea de actividad residen     0.000271\n",
      "uso_principal_ph_VIVIENDA CAMPESTRE           0.000271\n",
      "Length: 63, dtype: float64\n"
     ]
    }
   ],
   "source": [
    "print(trainData.corrwith(trainData['valor_total_avaluo'].str.replace(\",\", \".\").astype(float)).abs().sort_values()[0:63])"
   ]
  },
  {
   "cell_type": "markdown",
   "metadata": {},
   "source": [
    "Removemos esas 50 que menos contribuyen"
   ]
  },
  {
   "cell_type": "code",
   "execution_count": 45,
   "metadata": {},
   "outputs": [
    {
     "data": {
      "text/plain": [
       "(9629, 768)"
      ]
     },
     "execution_count": 45,
     "metadata": {},
     "output_type": "execute_result"
    }
   ],
   "source": [
    "unrelated_columns = [\n",
    "  'estado_acabados_pisos',\n",
    "  'irregularidad_planta',\n",
    "  'uso_actual_Educación',\n",
    "  'area_actividad_Residencial e institucion',\n",
    "  'area_actividad_Sector TecnolÃ³gico',\n",
    "  'area_actividad_327.75',\n",
    "  'uso_principal_ph_Res. comercio y servicios',\n",
    "  'uso_principal_ph_Vivienda Rural',\n",
    "  'area_actividad_Residencial Tipo D',\n",
    "  'area_actividad_Area de Manejo Suburbano',\n",
    "  'area_actividad_Suburbana',\n",
    "  'estructura_Tradicional',\n",
    "  'area_actividad_Plan Zonal rural',\n",
    "  'estructura_Industrializada',\n",
    "  'uso_principal_ph_Viv uni, bi y multifamili',\n",
    "  'uso_principal_ph_VIVIENDA  CAMPESTRE',\n",
    "  'area_actividad_RESIDENCIAL TIPO D',\n",
    "  'uso_principal_ph_Instituc 3 - Comercial 2',\n",
    "  'area_actividad_Netamente Residencial',\n",
    "  'uso_principal_ph_condominio campestre',\n",
    "  'area_actividad_Sector de TecnologÃ­a',\n",
    "  'area_actividad_Corredor Suburbano',\n",
    "  'area_actividad_MIXTA. RESI. - COMERCIAL',\n",
    "  'uso_principal_ph_Residencial  Tusitica',\n",
    "  'area_actividad_ZONA TECNOLOGIA',\n",
    "  'area_actividad_vVvienda',\n",
    "  'area_actividad_Zona Suburbana',\n",
    "  'motivo_Leasing Inmobiliario - Persona Natural',\n",
    "  'uso_actual_Hotelero',\n",
    "  'uso_principal_ph_VIVIENDA  MULTIFAMILIAR',\n",
    "  'uso_principal_ph_residencial campestre',\n",
    "  'uso_principal_ph_VIvienda',\n",
    "  'area_actividad_138.96',\n",
    "  'uso_principal_ph_Residencial Rural',\n",
    "  'uso_principal_ph_vivienda campestre',\n",
    "  'area_actividad_Vivienda campestre',\n",
    "  'uso_principal_ph_reisdencial',\n",
    "  'area_actividad_135.80000000000001',\n",
    "  'area_actividad_243',\n",
    "  'uso_principal_ph_RESIDENCIAL- SALUD',\n",
    "  'uso_principal_ph_VIVIENDA ULTIFAMILIAR',\n",
    "  'area_actividad_161',\n",
    "  'estructura_Otros',\n",
    "  'area_actividad_162,28',\n",
    "  'area_actividad_Residencial-Comercial',\n",
    "  'uso_principal_ph_Vivienda, Fincas',\n",
    "  'area_actividad_-',\n",
    "  'area_actividad_resdencial',\n",
    "  'uso_principal_ph_Residencial limitado come',\n",
    "  'area_actividad_Residencial y otros',\n",
    "  'area_actividad_674.90',\n",
    "  'area_actividad_121.98',\n",
    "  'area_actividad_114.42',\n",
    "  'area_actividad_214.09',\n",
    "  'uso_principal_ph_Vivienda Recreativa',\n",
    "  'area_actividad_ResidencIal R-1',\n",
    "  'area_actividad_SUBURBANA',\n",
    "  'area_actividad_RESIDENCIAL Y HOTELERO',\n",
    "  'uso_principal_ph_Institucion 3 - Comerci 2',\n",
    "  'uso_principal_ph_Resiencial',\n",
    "  'area_actividad_88.47',\n",
    "  'area_actividad_PR 1',\n",
    "  'area_actividad_Residencial Tipo B',\n",
    "  'area_actividad_VIVENDA',\n",
    "]\n",
    "\n",
    "trainData = trainData.drop(unrelated_columns, axis=1)\n",
    "trainData.shape"
   ]
  }
 ],
 "metadata": {
  "interpreter": {
   "hash": "d4d1e4263499bec80672ea0156c357c1ee493ec2b1c70f0acce89fc37c4a6abe"
  },
  "kernelspec": {
   "display_name": "Python 3.9.6 ('base')",
   "language": "python",
   "name": "python3"
  },
  "language_info": {
   "codemirror_mode": {
    "name": "ipython",
    "version": 3
   },
   "file_extension": ".py",
   "mimetype": "text/x-python",
   "name": "python",
   "nbconvert_exporter": "python",
   "pygments_lexer": "ipython3",
   "version": "3.9.6"
  },
  "orig_nbformat": 4
 },
 "nbformat": 4,
 "nbformat_minor": 2
}
