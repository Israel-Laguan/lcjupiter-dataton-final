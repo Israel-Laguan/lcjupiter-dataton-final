{
  "cells": [
    {
      "cell_type": "markdown",
      "metadata": {
        "id": "LiGxfi9WPtVv"
      },
      "source": [
        "# Proyecto final de aplicación de machine learning\n",
        "\n",
        "**Learning Code**"
      ]
    },
    {
      "cell_type": "markdown",
      "metadata": {
        "id": "muaGK4-cPtV2"
      },
      "source": [
        "## Introdución\n",
        "\n",
        "La estimación de los precios de la vivienda es esencial tanto para los propietarios como para los inversores, ya que ambos necesitan entender el valor de este activo inmobiliario. \n",
        "Para muchas personas, comprar una propiedad es una de las decisiones y compra más importantes en la vida. Además de la asequibilidad de una vivienda, otros factores, \n",
        "como la conveniencia del lugar y las perspectivas de inversión a largo plazo, también afectan\n",
        "el proceso de toma de decisiones.\n",
        "El mercado inmobiliario está expuesto a muchas fluctuaciones en los precios debido a las correlaciones existentes con muchas variables, algunas de las cuales no se pueden controlar\n",
        "o incluso pueden ser desconocidas. Los precios de las viviendas pueden aumentar rápidamente (o en algunos casos, también bajan muy rápido).\n",
        "Algunas aplicaciones para un banco son:\n",
        "- Originación: Establecer el valor comercial del inmueble a financiar utilizado para la aprobación final.\n",
        "- Retanqueo: Actualizar el valor comercial de garantía ya existente para aprobación de nuevos cupos de crédito.\n",
        "- Monitoreo portafolio garantías: Valoración del portafolio de las garantías para cumplimiento normativo y para el análisis de riesgos del colateral.\n",
        "- Normalización de cartera: Evaluar los préstamos existentes, evaluar los acuerdos de refinanciamiento Y daciones en pago.\n",
        "\n",
        "## Objetivo:\n",
        "\n",
        "El objetivo de este proyecto es que el estudiante aplique los temas vistos en el BootCamp para resolver un problema del mundo real, con datos reales. Lea cuidadosamente las instrucciones contenidas en el archivo \"Enunciado_dataton_banco\". Allí están los detalles iniciales de la prueba. Para este curso, se evaluará adicionalmente el desarrollo de los puntos de este notebook. \n",
        "\n",
        "Al final, usted debe entregar una copia de este notebook junto con unas conclusiones finales que usted debe sacar y que deben estar contenidas al final del documento.\n",
        "\n",
        "Cómo es usual, para empezar, debemos importar todas las librerías que vamos a necesitar. Asegurese de contar con las librerias, hasta que no encuentre ningún error al correr la siguiente celda:"
      ]
    },
    {
      "cell_type": "code",
      "execution_count": 1,
      "metadata": {
        "id": "Ou9hvmDLPtV3"
      },
      "outputs": [],
      "source": [
        "from content.initial_analysis_step import get_clean_data"
      ]
    },
    {
      "cell_type": "markdown",
      "metadata": {
        "id": "AGX5CDRnPtV6"
      },
      "source": [
        "# Cargar los datos que usaremos\n",
        "\n",
        "Usaremos los archivos entrenamiento_precios_vivienda.csv  y prueba_precios_vivienda.csv. Note que los datos del archivo prueba_precios_vivienda.csv no contienen la columna de los precios de la vivienda. La idea de este archivo, es que usted complete dicha columna con los predicciones resultantes de su modelo, y mediante un proceso de validación externo, Learning Code calcula el desempeño de este. Esta es una práctica muy común en pruebas de este tipo.\n",
        "\n",
        "Puede revisar el notebook con la descripcion detallada en [el notebook de la limpieza inicial](./analysis_and_initial_cleaning.ipynb)"
      ]
    },
    {
      "cell_type": "markdown",
      "metadata": {},
      "source": [
        "El resultado de la limpieza nos da lo siguiente:"
      ]
    },
    {
      "cell_type": "code",
      "execution_count": 2,
      "metadata": {
        "id": "K9XgpqGGPtV6"
      },
      "outputs": [
        {
          "name": "stdout",
          "output_type": "stream",
          "text": [
            "Train data have 9629 rows, \n",
            "Test data only 3175\n"
          ]
        }
      ],
      "source": [
        "trainData = get_clean_data(\"./content/sample_data/train.csv\")\n",
        "testData = get_clean_data(\"./content/sample_data/test.csv\")\n",
        "\n",
        "print(f'Train data have {trainData.shape[0]} rows, \\nTest data only {testData.shape[0]}')"
      ]
    },
    {
      "cell_type": "markdown",
      "metadata": {},
      "source": [
        "Tenemos ahora una tabla llena de valores numericos manejables, con columnas dummies y lista para analizar comodamente!"
      ]
    }
  ],
  "metadata": {
    "colab": {
      "collapsed_sections": [],
      "name": "Israel Rosales_dataton.ipynb",
      "provenance": []
    },
    "kernelspec": {
      "display_name": "Python 3",
      "language": "python",
      "name": "python3"
    },
    "language_info": {
      "codemirror_mode": {
        "name": "ipython",
        "version": 3
      },
      "file_extension": ".py",
      "mimetype": "text/x-python",
      "name": "python",
      "nbconvert_exporter": "python",
      "pygments_lexer": "ipython3",
      "version": "3.9.6"
    }
  },
  "nbformat": 4,
  "nbformat_minor": 0
}
